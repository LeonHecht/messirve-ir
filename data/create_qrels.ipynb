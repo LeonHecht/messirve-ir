{
 "cells": [
  {
   "cell_type": "code",
   "execution_count": 1,
   "metadata": {},
   "outputs": [],
   "source": [
    "import json\n",
    "\n",
    "with open('annotations2.json', 'r', encoding='utf-8') as f:\n",
    "    data = json.load(f)\n",
    "\n",
    "# Extract the list of annotation entries\n",
    "annotations = data.get(\"groundtruths\", {}).get(\"labels_ground_truths\", [])\n",
    "\n",
    "mapping = {\n",
    "    \"No relevante\": 0,\n",
    "    \"Parcialmente relevante\": 1,\n",
    "    \"Relevante\": 2,\n",
    "    \"Altamente relevante\": 3,\n",
    "}\n",
    "\n",
    "with open('qrels_py.tsv', 'w', encoding='utf-8') as f:\n",
    "    for entry in annotations:\n",
    "        # \"query_id\", \"iteration\", \"doc_id\", \"relevance\"\n",
    "        query_id = int(entry.get(\"topic_id\").split(\":\")[0])\n",
    "        label = mapping[entry.get(\"labels\")[0].get(\"label\")]    # relevance\n",
    "        doc_id = int(entry.get(\"id_report_hashed\"))\n",
    "        f.write(f\"{query_id}\\t0\\t{doc_id}\\t{label}\\n\")\n",
    "\n"
   ]
  }
 ],
 "metadata": {
  "kernelspec": {
   "display_name": "Python 3",
   "language": "python",
   "name": "python3"
  },
  "language_info": {
   "codemirror_mode": {
    "name": "ipython",
    "version": 3
   },
   "file_extension": ".py",
   "mimetype": "text/x-python",
   "name": "python",
   "nbconvert_exporter": "python",
   "pygments_lexer": "ipython3",
   "version": "3.10.12"
  }
 },
 "nbformat": 4,
 "nbformat_minor": 2
}
